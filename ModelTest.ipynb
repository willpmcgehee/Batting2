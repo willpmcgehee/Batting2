{
 "cells": [
  {
   "cell_type": "code",
   "execution_count": 1,
   "metadata": {
    "collapsed": true
   },
   "outputs": [],
   "source": [
    "#Import frameworks\n",
    "import pandas as pd\n",
    "import numpy as np\n",
    "from sklearn import linear_model\n",
    "from matplotlib import pyplot as plt"
   ]
  },
  {
   "cell_type": "code",
   "execution_count": 2,
   "metadata": {
    "collapsed": true
   },
   "outputs": [],
   "source": [
    "#Load the data\n",
    "data = pd.read_csv('data.csv')"
   ]
  },
  {
   "cell_type": "code",
   "execution_count": 4,
   "metadata": {
    "collapsed": false,
    "scrolled": true
   },
   "outputs": [
    {
     "data": {
      "text/html": [
       "<div style=\"max-height:1000px;max-width:1500px;overflow:auto;\">\n",
       "<table border=\"1\" class=\"dataframe\">\n",
       "  <thead>\n",
       "    <tr style=\"text-align: right;\">\n",
       "      <th></th>\n",
       "      <th>yearID</th>\n",
       "      <th>name</th>\n",
       "      <th>R</th>\n",
       "      <th>innings</th>\n",
       "      <th>BA</th>\n",
       "      <th>OBP</th>\n",
       "      <th>SLG</th>\n",
       "      <th>ISO</th>\n",
       "      <th>TA</th>\n",
       "      <th>LinWeights</th>\n",
       "    </tr>\n",
       "  </thead>\n",
       "  <tbody>\n",
       "    <tr>\n",
       "      <th>0</th>\n",
       "      <td> 1951</td>\n",
       "      <td>    Boston Red Sox</td>\n",
       "      <td> 804</td>\n",
       "      <td> 1386</td>\n",
       "      <td> 0.2655</td>\n",
       "      <td> 0.356048</td>\n",
       "      <td> 0.3916</td>\n",
       "      <td> 0.1261</td>\n",
       "      <td> 0.592546</td>\n",
       "      <td> 128.78</td>\n",
       "    </tr>\n",
       "    <tr>\n",
       "      <th>1</th>\n",
       "      <td> 1951</td>\n",
       "      <td>  Brooklyn Dodgers</td>\n",
       "      <td> 855</td>\n",
       "      <td> 1422</td>\n",
       "      <td> 0.2751</td>\n",
       "      <td> 0.346842</td>\n",
       "      <td> 0.4345</td>\n",
       "      <td> 0.1593</td>\n",
       "      <td> 0.560849</td>\n",
       "      <td> 161.84</td>\n",
       "    </tr>\n",
       "    <tr>\n",
       "      <th>2</th>\n",
       "      <td> 1951</td>\n",
       "      <td>     Boston Braves</td>\n",
       "      <td> 723</td>\n",
       "      <td> 1395</td>\n",
       "      <td> 0.2617</td>\n",
       "      <td> 0.332878</td>\n",
       "      <td> 0.3935</td>\n",
       "      <td> 0.1319</td>\n",
       "      <td> 0.551497</td>\n",
       "      <td>  72.63</td>\n",
       "    </tr>\n",
       "    <tr>\n",
       "      <th>3</th>\n",
       "      <td> 1951</td>\n",
       "      <td> Chicago White Sox</td>\n",
       "      <td> 714</td>\n",
       "      <td> 1395</td>\n",
       "      <td> 0.2702</td>\n",
       "      <td> 0.342986</td>\n",
       "      <td> 0.3845</td>\n",
       "      <td> 0.1144</td>\n",
       "      <td> 0.587985</td>\n",
       "      <td>  66.05</td>\n",
       "    </tr>\n",
       "    <tr>\n",
       "      <th>4</th>\n",
       "      <td> 1951</td>\n",
       "      <td>      Chicago Cubs</td>\n",
       "      <td> 614</td>\n",
       "      <td> 1395</td>\n",
       "      <td> 0.2500</td>\n",
       "      <td> 0.311895</td>\n",
       "      <td> 0.3637</td>\n",
       "      <td> 0.1136</td>\n",
       "      <td> 0.505736</td>\n",
       "      <td> -35.13</td>\n",
       "    </tr>\n",
       "  </tbody>\n",
       "</table>\n",
       "</div>"
      ],
      "text/plain": [
       "   yearID               name    R  innings      BA       OBP     SLG     ISO  \\\n",
       "0    1951     Boston Red Sox  804     1386  0.2655  0.356048  0.3916  0.1261   \n",
       "1    1951   Brooklyn Dodgers  855     1422  0.2751  0.346842  0.4345  0.1593   \n",
       "2    1951      Boston Braves  723     1395  0.2617  0.332878  0.3935  0.1319   \n",
       "3    1951  Chicago White Sox  714     1395  0.2702  0.342986  0.3845  0.1144   \n",
       "4    1951       Chicago Cubs  614     1395  0.2500  0.311895  0.3637  0.1136   \n",
       "\n",
       "         TA  LinWeights  \n",
       "0  0.592546      128.78  \n",
       "1  0.560849      161.84  \n",
       "2  0.551497       72.63  \n",
       "3  0.587985       66.05  \n",
       "4  0.505736      -35.13  "
      ]
     },
     "execution_count": 4,
     "metadata": {},
     "output_type": "execute_result"
    }
   ],
   "source": [
    "data.head()"
   ]
  },
  {
   "cell_type": "code",
   "execution_count": 25,
   "metadata": {
    "collapsed": false
   },
   "outputs": [
    {
     "data": {
      "text/html": [
       "<div style=\"max-height:1000px;max-width:1500px;overflow:auto;\">\n",
       "<table border=\"1\" class=\"dataframe\">\n",
       "  <thead>\n",
       "    <tr style=\"text-align: right;\">\n",
       "      <th></th>\n",
       "      <th>yearID</th>\n",
       "      <th>R</th>\n",
       "      <th>innings</th>\n",
       "      <th>BA</th>\n",
       "      <th>OBP</th>\n",
       "      <th>SLG</th>\n",
       "      <th>ISO</th>\n",
       "      <th>TA</th>\n",
       "      <th>LinWeights</th>\n",
       "    </tr>\n",
       "  </thead>\n",
       "  <tbody>\n",
       "    <tr>\n",
       "      <th>0</th>\n",
       "      <td> 1951</td>\n",
       "      <td> 704.2500</td>\n",
       "      <td> 1393.875</td>\n",
       "      <td> 0.260819</td>\n",
       "      <td> 0.333139</td>\n",
       "      <td> 0.385394</td>\n",
       "      <td> 0.124581</td>\n",
       "      <td> 0.549212</td>\n",
       "      <td> 50.603125</td>\n",
       "    </tr>\n",
       "    <tr>\n",
       "      <th>1</th>\n",
       "      <td> 1952</td>\n",
       "      <td> 646.8125</td>\n",
       "      <td> 1393.875</td>\n",
       "      <td> 0.252638</td>\n",
       "      <td> 0.323097</td>\n",
       "      <td> 0.369581</td>\n",
       "      <td> 0.116944</td>\n",
       "      <td> 0.523321</td>\n",
       "      <td> -4.025625</td>\n",
       "    </tr>\n",
       "    <tr>\n",
       "      <th>2</th>\n",
       "      <td> 1953</td>\n",
       "      <td> 714.1250</td>\n",
       "      <td> 1395.000</td>\n",
       "      <td> 0.264200</td>\n",
       "      <td> 0.332383</td>\n",
       "      <td> 0.397156</td>\n",
       "      <td> 0.132963</td>\n",
       "      <td> 0.544413</td>\n",
       "      <td> 65.166875</td>\n",
       "    </tr>\n",
       "    <tr>\n",
       "      <th>3</th>\n",
       "      <td> 1954</td>\n",
       "      <td> 676.6875</td>\n",
       "      <td> 1391.625</td>\n",
       "      <td> 0.260937</td>\n",
       "      <td> 0.332634</td>\n",
       "      <td> 0.389981</td>\n",
       "      <td> 0.129050</td>\n",
       "      <td> 0.546985</td>\n",
       "      <td> 55.074375</td>\n",
       "    </tr>\n",
       "    <tr>\n",
       "      <th>4</th>\n",
       "      <td> 1955</td>\n",
       "      <td> 691.8125</td>\n",
       "      <td> 1388.250</td>\n",
       "      <td> 0.258481</td>\n",
       "      <td> 0.330753</td>\n",
       "      <td> 0.393950</td>\n",
       "      <td> 0.135450</td>\n",
       "      <td> 0.532121</td>\n",
       "      <td> 56.621250</td>\n",
       "    </tr>\n",
       "  </tbody>\n",
       "</table>\n",
       "</div>"
      ],
      "text/plain": [
       "   yearID         R   innings        BA       OBP       SLG       ISO  \\\n",
       "0    1951  704.2500  1393.875  0.260819  0.333139  0.385394  0.124581   \n",
       "1    1952  646.8125  1393.875  0.252638  0.323097  0.369581  0.116944   \n",
       "2    1953  714.1250  1395.000  0.264200  0.332383  0.397156  0.132963   \n",
       "3    1954  676.6875  1391.625  0.260937  0.332634  0.389981  0.129050   \n",
       "4    1955  691.8125  1388.250  0.258481  0.330753  0.393950  0.135450   \n",
       "\n",
       "         TA  LinWeights  \n",
       "0  0.549212   50.603125  \n",
       "1  0.523321   -4.025625  \n",
       "2  0.544413   65.166875  \n",
       "3  0.546985   55.074375  \n",
       "4  0.532121   56.621250  "
      ]
     },
     "execution_count": 25,
     "metadata": {},
     "output_type": "execute_result"
    }
   ],
   "source": [
    "#Get averages for each year and place in new dataframe\n",
    "league_avg = []\n",
    "for year in data['yearID'].unique():\n",
    "    year_avg = data[data['yearID']==year].mean()\n",
    "    league_avg.append(year_avg)\n",
    "data_avg = pd.concat(league_avg,axis=1)\n",
    "data_avg = data_avg.transpose()\n",
    "data_avg.head()"
   ]
  },
  {
   "cell_type": "code",
   "execution_count": 81,
   "metadata": {
    "collapsed": false
   },
   "outputs": [],
   "source": [
    "#Generate Y data and reshape to (NUM,1)\n",
    "Y = list(data['R'])\n",
    "Y = np.array(Y).reshape((len(Y),1))\n",
    "\n",
    "\n",
    "\n",
    "    "
   ]
  },
  {
   "cell_type": "code",
   "execution_count": 128,
   "metadata": {
    "collapsed": true
   },
   "outputs": [],
   "source": [
    "def generate_X(col_name):\n",
    "    X_STAT = []\n",
    "    for i in range(0,len(data)):\n",
    "        team_stat = data[col_name][i]\n",
    "        league_stat = data_avg[data_avg['yearID']==data['yearID'][i]][col_name]\n",
    "        innings = data['innings'][i]\n",
    "        league_runs = data_avg[data_avg['yearID']==data['yearID'][i]]['R']\n",
    "        league_innings = data_avg[data_avg['yearID']==data['yearID'][i]]['innings']\n",
    "        league_runs_over_innings = league_runs/league_innings\n",
    "        stat = float((team_stat/league_stat)*(innings*league_runs_over_innings))\n",
    "        X_STAT.append(stat)\n",
    "    X_STAT = np.array(X_STAT).reshape((len(X_STAT),1))\n",
    "    return X_STAT\n",
    "    "
   ]
  },
  {
   "cell_type": "code",
   "execution_count": 131,
   "metadata": {
    "collapsed": false
   },
   "outputs": [],
   "source": [
    "X_BA = generate_X('BA')\n",
    "X_OBP = generate_X('OBP')\n",
    "X_SLG = generate_X('SLG')\n",
    "X_ISO = generate_X('ISO')\n",
    "X_TA = generate_X('TA')\n",
    "X_LW = generate_X('LinWeights')"
   ]
  },
  {
   "cell_type": "code",
   "execution_count": 146,
   "metadata": {
    "collapsed": true
   },
   "outputs": [],
   "source": [
    "def regression_errors(X,Y):\n",
    "    reg = linear_model.LinearRegression()\n",
    "    reg.fit(X,Y)\n",
    "    errors = regression.predict(X)-Y\n",
    "    return errors\n",
    "    "
   ]
  },
  {
   "cell_type": "code",
   "execution_count": 147,
   "metadata": {
    "collapsed": true
   },
   "outputs": [],
   "source": [
    "errors_BA = regression_errors(X_BA,Y)\n",
    "errors_OBP = regression_errors(X_OBP,Y)\n",
    "errors_SLG = regression_errors(X_SLG,Y)\n",
    "errors_ISO = regression_errors(X_ISO,Y)\n",
    "errors_TA = regression_errors(X_TA,Y)\n",
    "errors_LW = regression_errors(X_LW,Y)"
   ]
  },
  {
   "cell_type": "code",
   "execution_count": 154,
   "metadata": {
    "collapsed": false
   },
   "outputs": [],
   "source": [
    "#plt.hist(errors_LW,50,normed=1,facecolor='blue',alpha=.5)\n",
    "plt.hist(errors_IS,50,normed=1,facecolor='red',alpha=.5)\n",
    "\n",
    "plt.show()"
   ]
  },
  {
   "cell_type": "code",
   "execution_count": 151,
   "metadata": {
    "collapsed": false
   },
   "outputs": [
    {
     "name": "stdout",
     "output_type": "stream",
     "text": [
      "Batting Average STD: 50.5811115328\n",
      "On Base Percentage STD: 48.3657765256\n",
      "Slugging Percentage STD: 36.9237061258\n",
      "Isolated Power STD: 68.1446100477\n",
      "Total Average STD: 49.2590684697\n",
      "Linear Weights STD: 7455.26039352\n"
     ]
    }
   ],
   "source": [
    "print('Batting Average STD: {0}'.format(errors_BA.std()))\n",
    "print('On Base Percentage STD: {0}'.format(errors_OBP.std()))\n",
    "print('Slugging Percentage STD: {0}'.format(errors_SLG.std()))\n",
    "print('Isolated Power STD: {0}'.format(errors_ISO.std()))\n",
    "print('Total Average STD: {0}'.format(errors_TA.std()))\n",
    "print('Linear Weights STD: {0}'.format(errors_LW.std()))"
   ]
  },
  {
   "cell_type": "code",
   "execution_count": null,
   "metadata": {
    "collapsed": true
   },
   "outputs": [],
   "source": []
  }
 ],
 "metadata": {
  "kernelspec": {
   "display_name": "Python 2",
   "language": "python",
   "name": "python2"
  },
  "language_info": {
   "codemirror_mode": {
    "name": "ipython",
    "version": 2
   },
   "file_extension": ".py",
   "mimetype": "text/x-python",
   "name": "python",
   "nbconvert_exporter": "python",
   "pygments_lexer": "ipython2",
   "version": "2.7.11"
  }
 },
 "nbformat": 4,
 "nbformat_minor": 0
}
